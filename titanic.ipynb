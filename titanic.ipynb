{
 "cells": [
  {
   "cell_type": "code",
   "execution_count": 1,
   "metadata": {},
   "outputs": [],
   "source": [
    "import os\n",
    "import pandas as pd\n",
    "\n",
    "TITANIC_PATH = os.path.join(\"data\", \"titanic\")\n",
    "\n",
    "def load_titanic_data(filename, titanic_path=TITANIC_PATH):\n",
    "    csv_path = os.path.join(titanic_path, filename)\n",
    "    return pd.read_csv(csv_path)\n",
    "\n",
    "\n",
    "train_data = load_titanic_data(\"train.csv\")\n",
    "test_data = load_titanic_data(\"test.csv\")"
   ]
  },
  {
   "cell_type": "code",
   "execution_count": 2,
   "metadata": {},
   "outputs": [],
   "source": [
    "from sklearn.preprocessing import StandardScaler, OneHotEncoder\n",
    "from sklearn.impute import SimpleImputer\n",
    "from sklearn.model_selection import train_test_split, GridSearchCV\n",
    "from sklearn.metrics import accuracy_score\n",
    "\n",
    "def transform(dataframe):\n",
    "    df = dataframe.copy()\n",
    "    \n",
    "    #####################################################################\n",
    "    \n",
    "    df.drop(['PassengerId'], axis=1, inplace=True)\n",
    "    df.drop(['Ticket'], axis=1, inplace=True)\n",
    "    \n",
    "    #####################################################################\n",
    "    \n",
    "    df['Family_Size'] = df['Parch'] + df['SibSp']\n",
    "    \n",
    "    #####################################################################\n",
    "    \n",
    "    df['Title'] = df['Name'].str.extract('([A-Za-z]+)\\.', expand=True)\n",
    "    mapping = {'Mlle': 'Miss', 'Major': 'Mr', 'Col': 'Mr', 'Sir': 'Mr',\n",
    "           'Don': 'Mr', 'Mme': 'Mrs', 'Jonkheer': 'Mr', 'Lady': 'Mrs',\n",
    "           'Capt': 'Mr', 'Countess': 'Mrs', 'Ms': 'Miss', 'Dona': 'Mrs'}\n",
    "    df.replace({'Title': mapping}, inplace=True)\n",
    "    \n",
    "    df.drop(['Name'], axis=1, inplace=True)\n",
    "    \n",
    "    #####################################################################\n",
    "    \n",
    "    title_ages = dict(df.groupby('Title')['Age'].median())\n",
    "    df['age_med'] = df['Title'].apply(lambda x: title_ages[x])\n",
    "    df['Age'].fillna(df['age_med'], inplace=True)\n",
    "    \n",
    "    df.drop(['age_med'], axis=1, inplace=True)\n",
    "    \n",
    "    #####################################################################\n",
    "    \n",
    "    class_fares = df.groupby(['Pclass', 'Family_Size']).Fare.median()\n",
    "    df['fare_med'] = df.apply(lambda x: class_fares[(x.Pclass, x.Family_Size)], axis=1)\n",
    "    df['Fare'].fillna(df['fare_med'], inplace=True)\n",
    "    \n",
    "    df.drop(['fare_med'], axis=1, inplace=True)\n",
    "    \n",
    "    #####################################################################\n",
    "    \n",
    "    df.Cabin = df.Cabin.notnull()\n",
    "    \n",
    "    binary = ['Sex', 'Cabin']\n",
    "    \n",
    "    for var in binary:\n",
    "        df[var] = df[var].astype('category')\n",
    "        df[var] = df[var].cat.codes\n",
    "    \n",
    "    #####################################################################\n",
    "    \n",
    "    df.Embarked = df.Embarked.fillna(\"S\")\n",
    "    \n",
    "    categorical = ['Embarked', 'Title']\n",
    "\n",
    "    for var in categorical:\n",
    "        df = pd.concat([df, pd.get_dummies(df[var], prefix=var)], axis=1)\n",
    "    \n",
    "    df.drop(categorical, axis=1, inplace=True)\n",
    "    \n",
    "    #####################################################################\n",
    "    \n",
    "#     continuous = ['Age', 'Fare', 'Parch', 'Pclass', 'SibSp', 'Family_Size']\n",
    "\n",
    "#     scaler = StandardScaler()\n",
    "\n",
    "#     for var in continuous:\n",
    "#         df[var] = df[var].astype('float64')\n",
    "#         df[var] = scaler.fit_transform(df[var].values.reshape(-1, 1))\n",
    "        \n",
    "    #####################################################################\n",
    "    \n",
    "    return StandardScaler().fit_transform(df)"
   ]
  },
  {
   "cell_type": "code",
   "execution_count": 3,
   "metadata": {},
   "outputs": [
    {
     "name": "stdout",
     "output_type": "stream",
     "text": [
      "X.shape: (891, 17) y.shape: (891,)\n"
     ]
    }
   ],
   "source": [
    "train_data = transform(train_data)\n",
    "\n",
    "X, y = train_data.drop(['Survived'], axis=1), train_data['Survived']\n",
    "\n",
    "print(\"X.shape: {} y.shape: {}\".format(X.shape, y.shape))"
   ]
  },
  {
   "cell_type": "code",
   "execution_count": 4,
   "metadata": {},
   "outputs": [],
   "source": [
    "from sklearn.model_selection import train_test_split\n",
    "\n",
    "X_train, X_test, y_train, y_test = train_test_split(X, y, test_size=0.1, random_state=42)"
   ]
  },
  {
   "cell_type": "code",
   "execution_count": null,
   "metadata": {},
   "outputs": [],
   "source": [
    "# model"
   ]
  },
  {
   "cell_type": "code",
   "execution_count": 29,
   "metadata": {},
   "outputs": [
    {
     "name": "stdout",
     "output_type": "stream",
     "text": [
      "[0 1 0 0 1 0 0 0 1 0 0 0 1 0 1 1 0 0 0 1 0 1 1 0 1 0 1 0 0 0 0 0 1 1 1 0 0\n",
      " 0 0 0 0 0 0 1 1 0 0 0 1 1 0 0 0 1 0 1 0 0 0 1 0 0 0 0 1 1 0 0 1 1 0 0 0 1\n",
      " 1 0 0 1 0 0 1 0 0 0 0 0 0 0 0 1 1 0 1 0 0 0 1 0 0 0 1 0 0 0 1 0 0 0 0 0 0\n",
      " 0 1 0 1 0 0 1 0 1 0 0 1 0 0 0 0 0 0 0 0 0 1 0 0 0 0 0 0 0 0 1 0 0 0 0 0 0\n",
      " 0 0 1 0 0 1 1 0 1 0 0 1 0 1 0 0 0 1 0 0 1 0 0 0 0 0 0 0 0 0 1 1 0 0 1 0 1\n",
      " 0 0 0 0 0 0 0 1 0 1 0 1 0 0 1 0 1 0 0 0 0 0 0 1 0 0 0 0 1 0 0 0 0 1 0 0 0\n",
      " 1 0 1 1 0 0 0 0 0 0 0 0 0 0 0 0 0 1 1 1 0 0 1 0 1 0 1 1 1 0 1 0 0 0 0 0 0\n",
      " 0 0 0 1 0 0 0 0 0 0 0 0 0 1 0 0 0 0 0 0 0 0 1 0 0 0 0 0 0 1 0 0 0 0 1 0 0\n",
      " 1 0 0 0 0 1 0 0 0 1 0 1 0 1 0 0 0 0 1 0 0 0 0 0 0 1 0 0 1 0 1 0 0 0 1 0 0\n",
      " 1 0 0 0 0 0 1 0 0 0 1 1 0 0 1 0 0 1 0 0 0 0 0 1 0 0 1 1 1 1 0 1 1 0 0 1 0\n",
      " 0 1 0 0 1 1 0 0 0 1 0 0 1 1 0 0 0 0 0 1 0 1 1 0 0 1 0 1 0 0 1 0 0 0 0 1 0\n",
      " 0 0 0 0 1 0 0 1 0 0 1]\n",
      "Your submission was successfully saved!\n"
     ]
    }
   ],
   "source": [
    "X_final = transform(test_data)\n",
    "\n",
    "predictions = model.predict(X_final)\n",
    "\n",
    "predictions_final = (predictions > 0.5).astype('int').reshape(-1)\n",
    "\n",
    "print(predictions_final)\n",
    "\n",
    "output = pd.DataFrame({'PassengerId': test_data.PassengerId, 'Survived': predictions_final})\n",
    "output.to_csv('submission.csv', index=False)\n",
    "\n",
    "print(\"Your submission was successfully saved!\")"
   ]
  }
 ],
 "metadata": {
  "kernelspec": {
   "display_name": "Python 3",
   "language": "python",
   "name": "python3"
  },
  "language_info": {
   "codemirror_mode": {
    "name": "ipython",
    "version": 3
   },
   "file_extension": ".py",
   "mimetype": "text/x-python",
   "name": "python",
   "nbconvert_exporter": "python",
   "pygments_lexer": "ipython3",
   "version": "3.9.1"
  }
 },
 "nbformat": 4,
 "nbformat_minor": 4
}
