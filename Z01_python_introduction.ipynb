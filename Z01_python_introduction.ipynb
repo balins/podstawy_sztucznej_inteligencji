{
 "cells": [
  {
   "cell_type": "markdown",
   "metadata": {},
   "source": [
    "# Podstawowe operatory\n",
    "\n",
    " * \\+ – dodawanie: 4 + 7.5 daje 11.5;\n",
    " * \\- – odejmowanie: 30 - 24 daje 6;\n",
    " * \\* – mnożenie: 2 * 3 daje 6;\n",
    " * \\*\\* – potęgowanie: 3 ** 4 daje 81;\n",
    " * / – dzielenie: 4 / 3 daje 1;\n",
    " * // – dzielenie całkowite: 4 // 3.0 daje 1;\n",
    " * % – dzielenie modulo: 8 % 3 daje 2. "
   ]
  },
  {
   "cell_type": "markdown",
   "metadata": {},
   "source": [
    "# Operatory porównania:\n",
    "\n",
    " * < – mniejsze,\n",
    " * \\> – większe,\n",
    " * <= – mniejsze lub równe,\n",
    " * == – równe,\n",
    " * != – różne. "
   ]
  },
  {
   "cell_type": "markdown",
   "metadata": {},
   "source": [
    "# 1. Warunki\n",
    "Python używa zmiennych logicznych w celu oceny warunków. \n",
    "Wartości logiczne prawda (True) i fałsz (False) są zwracane, gdy wyrażenie jest porównywane i oceniane. \n",
    "\n",
    "Na przykład:"
   ]
  },
  {
   "cell_type": "code",
   "execution_count": null,
   "metadata": {},
   "outputs": [],
   "source": [
    "x = 2\n",
    "print(x == 2)\n",
    "print(x == 3)\n",
    "print(x < 3)"
   ]
  },
  {
   "cell_type": "markdown",
   "metadata": {},
   "source": [
    "# 1.1 Instrukcje Warunkowe\n",
    "Aby uzależnić wykonanie instrukcji od rezultatu porównania, używamy instrukcji warunkowej"
   ]
  },
  {
   "cell_type": "code",
   "execution_count": null,
   "metadata": {},
   "outputs": [],
   "source": [
    "x=2\n",
    "\n",
    "if x==2: \n",
    "    print(\"OK\")"
   ]
  },
  {
   "cell_type": "markdown",
   "metadata": {},
   "source": [
    "Przykład bardziej skomplikowany:"
   ]
  },
  {
   "cell_type": "code",
   "execution_count": null,
   "metadata": {},
   "outputs": [],
   "source": [
    "a = 2\n",
    "b = 4\n",
    "if a > b:\n",
    "    print(b)\n",
    "else:\n",
    "    print(a)"
   ]
  },
  {
   "cell_type": "markdown",
   "metadata": {},
   "source": [
    "W powyższym przykładzie użyliśmy pełnej instrukcji warunkowej <b>IF/ELSE</b>. Istnieje jeszcze bardziej bogatsza instrukcja warunkowa tzw. instrukcja wyboru wielokrotnego <b>IF/ELIF/ELSE</b>:"
   ]
  },
  {
   "cell_type": "code",
   "execution_count": null,
   "metadata": {},
   "outputs": [],
   "source": [
    "print(\"Ten program porównuje dwie liczby\")\n",
    "x = input(\"Podaj pierwszą z dwóch liczb:\")                                 \n",
    "y = input(\"Podaj drugą z dwóch liczb:\")                                    \n",
    "print(\"Liczba\",x,\"w stosunku do\",y,\"jest:\",)\n",
    "if x==y:\n",
    "    print(\"taka sama\")\n",
    "elif x>y:\n",
    "    print(\"większa\")\n",
    "else:\n",
    "    print(\"mniejsza\")"
   ]
  },
  {
   "cell_type": "markdown",
   "metadata": {},
   "source": [
    "# Operatory logiczne\n",
    "Operatory logiczne, takie jak: <b>and</b> i <b>or</b> umożliwiają budowanie złożonych wyrażeń logicznych, na przykład:"
   ]
  },
  {
   "cell_type": "markdown",
   "metadata": {},
   "source": [
    "# Zad. 1\n",
    "\n",
    "Napisz program, który sprawdzi, czy podane przez użytkownika koła mają niepuste przecięcie. Użytkownik programu podaje współrzędne środka oraz promień każdego koła.\n"
   ]
  },
  {
   "cell_type": "code",
   "execution_count": null,
   "metadata": {},
   "outputs": [],
   "source": [
    "def intersected(x1, y1, r1, x2, y2, r2):\n",
    "    return (x1-x2)**2 + (y1-y2)**2 < (r1+r2)**2\n",
    "\n",
    "x1 = float(input(\"x1: \"))\n",
    "y1 = float(input(\"y1: \"))\n",
    "r1 = float(input(\"r1: \"))\n",
    "\n",
    "x2 = float(input(\"x2: \"))\n",
    "y2 = float(input(\"y2: \"))\n",
    "r2 = float(input(\"r2: \"))\n",
    "\n",
    "if intersected(x1, y1, r1, x2, y2, r2):\n",
    "    print(\"Koła się przecinają.\")\n",
    "else:\n",
    "    print(\"Koła się nie przecinają.\")"
   ]
  },
  {
   "cell_type": "markdown",
   "metadata": {},
   "source": [
    "# Operator ,,in''\n",
    "Operator <b>in</b> może być używany w celu sprawdzenia, czy określony ,,obiekt'' istnieje w obrębie iterowalnego kontenera obiektów, np. listy:"
   ]
  },
  {
   "cell_type": "code",
   "execution_count": null,
   "metadata": {},
   "outputs": [],
   "source": [
    "if name in [\"John\", \"Rick\"]:\n",
    "    print(\"Your name is either John or Rick.\")"
   ]
  },
  {
   "cell_type": "markdown",
   "metadata": {},
   "source": [
    "Instrukcje warunkowe możemy zagnieżdżać, np.:"
   ]
  },
  {
   "cell_type": "markdown",
   "metadata": {},
   "source": [
    "# 2. Pętle\n",
    "W Pythonie istnieją dwa typy pętli: <b>for<b> i <b>while<b>."
   ]
  },
  {
   "cell_type": "markdown",
   "metadata": {},
   "source": [
    "# 2.1 Pętle iterowane po elementach sekwencji\n",
    "\n",
    "Typowa pętla po liczbach:"
   ]
  },
  {
   "cell_type": "code",
   "execution_count": null,
   "metadata": {},
   "outputs": [],
   "source": [
    "for x in range(3,10):\n",
    "      print(x)"
   ]
  },
  {
   "cell_type": "markdown",
   "metadata": {},
   "source": [
    "Funkcja <b>range</b> tworzy \"listę\" wartości całkowitych: \n",
    "\n",
    "- od zera do podanej wartości (jeżeli podamy 1 argument) \n",
    "- od - do (jeżeli podamy 2 argumenty)\n",
    "- możemy podać też trzeci parametr określający przyrost (normalnie +1).\n"
   ]
  },
  {
   "cell_type": "code",
   "execution_count": null,
   "metadata": {},
   "outputs": [],
   "source": [
    "print(range(10))\n",
    "print(range(3, 10))\n",
    "print(range(1,10,2))\n",
    "print(range(4,0,-1))"
   ]
  },
  {
   "cell_type": "markdown",
   "metadata": {},
   "source": [
    "Pętla <b>for</b> może też iterować inne typy danych, np napisy, listy:"
   ]
  },
  {
   "cell_type": "code",
   "execution_count": null,
   "metadata": {},
   "outputs": [],
   "source": [
    "bar = \"Zdrabniamy literki\"\n",
    "for i in bar:\n",
    "    print(i, end =\"\")\n",
    "print()\n",
    "\n",
    "x = [2, 3, 5, 7]\n",
    "for i in x:\n",
    "    print(i, end =\" \") \n",
    "print()\n",
    "\n",
    "for e in ['apple', 'orange', 'peach']:\n",
    "    print(e, end =\" \")"
   ]
  },
  {
   "cell_type": "markdown",
   "metadata": {},
   "source": [
    "W takiej pętli nie mamy dostępu do indeksu elementu w liście, ale możemy taki uzyskać, odpowiednio mapując kolekcję za pomocą <b>enumerate</b> (generator):"
   ]
  },
  {
   "cell_type": "code",
   "execution_count": null,
   "metadata": {},
   "outputs": [],
   "source": [
    "print(list(enumerate(['apple', 'orange', 'peach'])), \"\\n\")\n",
    "\n",
    "for i, x in enumerate(['apple', 'orange', 'peach']):\n",
    "    print(i, x)"
   ]
  },
  {
   "cell_type": "markdown",
   "metadata": {},
   "source": [
    "# 2.2 Pętla while\n",
    "\n",
    "Pętla **while** powtarza instrukcje znajdujące się w jej wnętrzu tak długo, dopóki podany warunek logiczny jest spełniony. \n",
    "\n",
    "Na przykład:"
   ]
  },
  {
   "cell_type": "code",
   "execution_count": null,
   "metadata": {},
   "outputs": [],
   "source": [
    "x=[1,2,3,4,5,6]\n",
    "while x:\n",
    "    x=x[:len(x)-1] # funkcja len() zwraca długość listy (liczbę elementów)\n",
    "    print(x)"
   ]
  },
  {
   "cell_type": "code",
   "execution_count": null,
   "metadata": {},
   "outputs": [],
   "source": [
    "licznik = 10\n",
    "\n",
    "while licznik < 15:\n",
    "    licznik += 1\n",
    "    print(\"Jestem w while.\")"
   ]
  },
  {
   "cell_type": "markdown",
   "metadata": {},
   "source": [
    "\n",
    "# Zad. 2\n",
    "Napisz program, który będzie wczytywał kolejne słowa i je wypisywał aż do wczytania słowa \"stop\" po którym program się zatrzyma.\n"
   ]
  },
  {
   "cell_type": "code",
   "execution_count": null,
   "metadata": {},
   "outputs": [],
   "source": [
    "a = input()\n",
    "\n",
    "while a != \"stop\":\n",
    "    print(a)\n",
    "    a = input()"
   ]
  },
  {
   "cell_type": "markdown",
   "metadata": {},
   "source": [
    "# Zad. 3\n",
    "\n",
    "Napisz program tworzący tablicę n na m elementową w kształcie tablicy szachowej. Np. dla\n",
    "<br />\n",
    "<tt>\n",
    "n = 5<br />\n",
    "m = 5\n",
    "</tt>\n",
    "\n",
    "otrzymujemy\n",
    "\n",
    "<br />\n",
    "<tt>\n",
    "10101<br />\n",
    "01010<br />\n",
    "10101<br />\n",
    "01010<br />\n",
    "10101<br />\n",
    "</tt>"
   ]
  },
  {
   "cell_type": "code",
   "execution_count": null,
   "metadata": {},
   "outputs": [],
   "source": [
    "def chess_board(n_rows, m_cols):\n",
    "    return [\n",
    "        [1 - (i + j) % 2 for j in range(m_cols)]\n",
    "        for i in range(n_rows)\n",
    "    ]\n",
    "\n",
    "board = chess_board(8, 8)\n",
    "\n",
    "for row in board:\n",
    "    for col in row:\n",
    "        print(col, end=\"\")\n",
    "    print()"
   ]
  },
  {
   "cell_type": "markdown",
   "metadata": {},
   "source": [
    "# 3. Formatowanie liczb\n",
    "\n",
    "Celem pętli często jest wyświetlenie kolumny liczb. \n",
    "\n",
    "Aby liczby wyświetlane były w należyty sposób i w pożądanym miejscu używamy operatora formatowania **%** w połączeniu z ciągiem formatującym. \n",
    "\n",
    "Ciąg formatujący składa się ze znaku **%**, po którym następują \n",
    "\n",
    "* opcje formatowania, \n",
    "* ilość znaków przeznaczonych do wyświetlenia \n",
    "* oraz typ danej do wyświetlenia \n",
    "(przy czym tylko trzeci element – tj. typ danych jest wymagany).\n",
    "\n",
    "Typ danej sygnalizujemy pojedynczą literą. I tak:\n",
    "* litera s oznacza napis (konwertuje każdy typ danych na tekst), np.:"
   ]
  },
  {
   "cell_type": "code",
   "execution_count": null,
   "metadata": {},
   "outputs": [],
   "source": [
    "# stary sposób\n",
    "\n",
    "print(\"%s\" % 10)\n",
    "print(\"%s\" % list(range(6)))\n",
    "print(\"%s\" % \"txt\")\n",
    "print('%10s' % 'test')\n",
    "print('%-10s' % 'test')\n",
    "print('%.5s' % 'xylophone')"
   ]
  },
  {
   "cell_type": "markdown",
   "metadata": {},
   "source": [
    "* litera **d** oznacza dziesiętną liczbę całkowitą (konwertuje kompatybilny typ danych na liczbę całkowitą), np.:"
   ]
  },
  {
   "cell_type": "code",
   "execution_count": null,
   "metadata": {},
   "outputs": [],
   "source": [
    "print(\"%d\" % 0xff)\n",
    "print(\"%d\" % 2)\n",
    "print('{:d}'.format(0xff))\n",
    "print('{:d}'.format(2))"
   ]
  },
  {
   "cell_type": "markdown",
   "metadata": {},
   "source": [
    "* litera **f** oznacza liczbę zmiennopozycyjną w postaci ułamka dziesiętnego, np.:"
   ]
  },
  {
   "cell_type": "code",
   "execution_count": null,
   "metadata": {},
   "outputs": [],
   "source": [
    "print(\"%f\" % 123)\n",
    "print(\"%f\" % 1.23)\n",
    "\n",
    "print('{:f}'.format(123))\n",
    "print('{:f}'.format(1.23))"
   ]
  },
  {
   "cell_type": "markdown",
   "metadata": {},
   "source": [
    "# Zad. 4\n",
    "\n",
    "Napisać program rysujący \"miarkę\" o zadanej długości. Należy prawidłowo obsłużyć liczby składające się z kilku cyfr, np.:\n",
    "\n",
    "$$|....|....|....|....|....|....|....|....|$$\n",
    "$$0 \\quad \\ 1 \\quad \\ 2 \\quad \\ 3 \\quad \\ 4 \\quad \\ 5 \\quad \\ 6 \\quad \\ 7 \\quad \\ 8$$"
   ]
  },
  {
   "cell_type": "code",
   "execution_count": null,
   "metadata": {},
   "outputs": [],
   "source": [
    "def ruler(n):\n",
    "    return n * \"|....\" + \"|\\n\" + \"\".join(\"{:<5}\".format(i) for i in range(n+1))\n",
    "\n",
    "n = 20\n",
    "\n",
    "print(ruler(n))"
   ]
  },
  {
   "cell_type": "markdown",
   "metadata": {},
   "source": [
    "# Funkcje\n",
    "\n",
    "Definicja funkcji musi zawierać:\n",
    "\n",
    "* nagłówek funkcji:\n",
    "  * nazwę funkcji, która pozwoli zidentyfikować funkcję w pozostałej części programu,\n",
    "  * listę argumentów\n",
    "* ciało funkcji, zawierające instrukcje, które zostaną wykonane w momencie wywołania (użycia) funkcji\n",
    "  * jeżeli funkcja ma zwracać jakiś rezultat, musi zawierać instrukcję ,,return''\n",
    "\n",
    "W języku Python składnia definicji funkcji jest następująca:"
   ]
  },
  {
   "cell_type": "code",
   "execution_count": null,
   "metadata": {},
   "outputs": [],
   "source": [
    "def nazwa_funkcji (lista_parametrow):\n",
    "    instrukcje_do_wykonania"
   ]
  },
  {
   "cell_type": "markdown",
   "metadata": {},
   "source": [
    "Przykład funkcji:"
   ]
  },
  {
   "cell_type": "code",
   "execution_count": null,
   "metadata": {},
   "outputs": [],
   "source": [
    "# Przykład 1\n",
    "def wypisz(lancuch):\n",
    "    print(lancuch)\n",
    "    \n",
    "wypisz(\"To jest użycie funkcji\")\n",
    "x = \"tak\"\n",
    "wypisz(x)"
   ]
  },
  {
   "cell_type": "code",
   "execution_count": null,
   "metadata": {},
   "outputs": [],
   "source": [
    "# Przykład 2 - zwraca wynik\n",
    "def suma(x, y):\n",
    "    return x+y\n",
    "\n",
    "print(suma(4,8))\n",
    "x = suma(2, -1)\n",
    "print(x)"
   ]
  },
  {
   "cell_type": "markdown",
   "metadata": {},
   "source": [
    "## Wiele rezultatów\n",
    "Jeżeli chcemy aby funkcja zwracała więcej niż jedną zmienną to stosujemy krotkę ,,(zmienna_1, ..., zmienna_n)'':"
   ]
  },
  {
   "cell_type": "code",
   "execution_count": null,
   "metadata": {},
   "outputs": [],
   "source": [
    "def f1(a,b):\n",
    "    return a+b,a-b\n",
    "\n",
    "def f2(a,b):\n",
    "    return (a+b,a-b)\n",
    "\n",
    "print(f1(2, 4))\n",
    "print(f2(2, 4))"
   ]
  },
  {
   "cell_type": "markdown",
   "metadata": {},
   "source": [
    "# Zad. 5\n",
    "\n",
    "Napisz funkcje, która zwraca:\n",
    "\n",
    "* sumę,\n",
    "* różnicę,\n",
    "* iloczyn elementów listy.\n"
   ]
  },
  {
   "cell_type": "code",
   "execution_count": null,
   "metadata": {},
   "outputs": [],
   "source": [
    "from functools import reduce\n",
    "\n",
    "def multitool(ls):\n",
    "    return sum(ls), reduce(lambda x, y: x-y, ls), reduce(lambda x, y: x*y, ls)\n",
    "\n",
    "multitool([10, 8, -2, 4])"
   ]
  },
  {
   "cell_type": "markdown",
   "metadata": {},
   "source": [
    "# Typy sekwencyjne\n",
    "\n",
    "Sekwencyjne typy danych służą do przechowywaniu wielu wartości w pojedynczej zmiennej (w innych językach nazywane tablicami), w odróżnieniu od typów prostych, takich jak np. int, które w pojedynczej zmiennej mogą zachować tylko jedną wartość. Do typów sekwencyjnych należą: napisy (łańcuchy znaków), listy, krotki."
   ]
  },
  {
   "cell_type": "markdown",
   "metadata": {},
   "source": [
    "# 1. Napisy/łańcuchy\n",
    "Do tej pory poznaliśmy już jeden typ sekwencyjny, mianowicie typ łańcuchowy (łańcuchy znaków). Wartości napisów podajemy w cudzysłowach lub apostrofach:"
   ]
  },
  {
   "cell_type": "code",
   "execution_count": null,
   "metadata": {},
   "outputs": [],
   "source": [
    "x = \"To jest napis\"\n",
    "print(x[0])\n",
    "print(x[1])\n",
    "print(x[3])\n",
    "\n",
    "print(x[-1])\n",
    "print(x[-2])\n",
    "print(x[-3])"
   ]
  },
  {
   "cell_type": "code",
   "execution_count": null,
   "metadata": {},
   "outputs": [],
   "source": [
    "x = \"To jest napis\"\n",
    "print(len(x))"
   ]
  },
  {
   "cell_type": "markdown",
   "metadata": {},
   "source": [
    "# 2. Listy\n",
    "Do zapamiętywania sekwencji danych nie będącymi znakami (np. liczby) służy typ sekwencyjny - **lista**. Elementy list mogą być dowolnego typu, to znaczy mogą zawierać zarówno liczby jak i napisy."
   ]
  },
  {
   "cell_type": "code",
   "execution_count": null,
   "metadata": {},
   "outputs": [],
   "source": [
    "x = [1, 2, 3]\n",
    "y = [1, 'tak', 5]\n",
    "\n",
    "print(x)\n",
    "print(y)"
   ]
  },
  {
   "cell_type": "code",
   "execution_count": null,
   "metadata": {},
   "outputs": [],
   "source": [
    "x = [1, 2, 3, 4]\n",
    "\n",
    "print(2 in x)\n",
    "print(3 not in x)\n",
    "print(5 not in x)"
   ]
  },
  {
   "cell_type": "code",
   "execution_count": null,
   "metadata": {},
   "outputs": [],
   "source": [
    "x = [range(5), [8, -7, -1]]\n",
    "\n",
    "print(x)\n",
    "print(x[0])\n",
    "print(x[1])\n",
    "print(x[1][1])"
   ]
  },
  {
   "cell_type": "markdown",
   "metadata": {},
   "source": [
    "# Zad. 6\n",
    "\n",
    "Napisać program zamieniający napis na napis „rozstrzelony”, czyli wstawiający spacje przed napisem, pomiędzy literami i po napisie. Przykład: **'Python' → ' P y t h o n '**. "
   ]
  },
  {
   "cell_type": "code",
   "execution_count": null,
   "metadata": {},
   "outputs": [],
   "source": [
    "\" \".join(\"Python\")"
   ]
  },
  {
   "cell_type": "markdown",
   "metadata": {},
   "source": [
    "# Zad. 7\n",
    "Napisz funkcję **reverse(napis)**, która z napisu będącego jej argumentem tworzy odwrócony napis. Przykładowo, wywołanie reverse(\"hello\") powinno zwrócić napis \"olleh\". "
   ]
  },
  {
   "cell_type": "code",
   "execution_count": null,
   "metadata": {},
   "outputs": [],
   "source": [
    "def reverse(iterable):\n",
    "    return iterable[::-1]\n",
    "\n",
    "reverse(\"hello\")"
   ]
  },
  {
   "cell_type": "markdown",
   "metadata": {},
   "source": [
    "## Moduły i pakiety\n",
    "Moduł to plik w Pythonie zawierający definicję klas, funkcji, stałych i zmiennych. Definicje zawarte w module mogą być zaimportowane do innych modułów lub do modułu głównego. Wewnątrz modułu jego nazwa dostępna jest jako wartość zmiennej globalnej **<tt>\\__name__</tt>**."
   ]
  },
  {
   "cell_type": "markdown",
   "metadata": {},
   "source": [
    "## Wybrane pakiety, moduły:\n",
    "\n",
    "* random - moduł ten zawiera funkcje obsługujące generowanie liczb pseudolosowych:"
   ]
  },
  {
   "cell_type": "code",
   "execution_count": null,
   "metadata": {},
   "outputs": [],
   "source": [
    "import random\n",
    "\n",
    "random.seed() # inicjalizacja generatora liczb pseudolosowych\n",
    "\n",
    "# losowanie liczb całkowitych z zakresu od..do.\n",
    "print(random.randint(1,10))\n",
    "print(random.randint(1,10))\n",
    "print(random.randint(1,10))"
   ]
  },
  {
   "cell_type": "markdown",
   "metadata": {},
   "source": [
    "* **math** - moduł ten zawiera definicje najczęściej używanych funkcji matematycznych:"
   ]
  },
  {
   "cell_type": "code",
   "execution_count": null,
   "metadata": {},
   "outputs": [],
   "source": [
    "from math import *\n",
    "\n",
    "print(ceil(4.7)) # zwraca sufit liczby rzeczywistej\n",
    "print(floor(4.7)) # zwraca podłogę liczby rzeczywistej\n",
    "print(fabs(-3)) # zwraca wartość absolutną liczby rzeczywistej\n",
    "print(modf(2.5)) # zwraca krotkę zawierającą część ułamkową i całkowitą liczby rzeczywistej\n",
    "print(exp(2)) # zwraca e do potęgi x\n",
    "print(log(e)) # zwraca logarytm naturalny\n",
    "print(log(8, 2)) # zwraca logarytm o podstawie 2 (drugi parametr)\n",
    "print(sqrt(2.25)) # zwraca pierwiastek kwadratowy\n",
    "print(acos(1))\n",
    "print(cos(1))"
   ]
  },
  {
   "cell_type": "markdown",
   "metadata": {},
   "source": [
    "\n",
    "# Zad. 8\n",
    "\n",
    "Wyestymować wartość liczby $\\pi$ metodą Monte Carlo.\n",
    "\n",
    "Pole kwadratu to $4r^2$, a pole koła wynosi $\\pi r^2$. W takim razie stosunek:\n",
    "$$\n",
    "\\frac{P_{kola}}{P_{kwadratu}} = \\frac{\\pi r^2}{4 r^2} = \\frac{\\pi}{4}.\n",
    "$$\n",
    "W konsekwencji: \n",
    "$$\n",
    "\\pi = 4 \\frac{P_{kola}}{P_{kwadratu}}.\n",
    "$$\n",
    "\n",
    "Jeżeli będziemy losować punkty o współrzędnych od $-2r$ do $2r$, to stosunek liczby punktów zawierających się w kole o środku w punkcie $(0,0)$ i promieniu $r$ do wszystkich wylosowanych punktów, będzie dążył w nieskończoności (z pewnym prawdopodobieństwem) do stosunku tego pola koła do koła kwadratu o boku $2r$.\n",
    "\n",
    "Cała metoda sprowadza się więc do tego, by losować punkty i sprawdzać, czy mieszczą się w kole. "
   ]
  },
  {
   "cell_type": "code",
   "execution_count": null,
   "metadata": {},
   "outputs": [],
   "source": [
    "import random\n",
    "\n",
    "random.seed(0)\n",
    "\n",
    "def estimate(iterations, r=1):\n",
    "    def random_coord():\n",
    "        return (random.uniform(-r, r), random.uniform(-r, r))\n",
    "    \n",
    "    def circle(x, y):\n",
    "        return x**2 + y**2 < r**2\n",
    "\n",
    "    in_circle = 0\n",
    "    for i in range(iterations):\n",
    "        x, y = random_coord()\n",
    "        in_circle += circle(x, y)\n",
    "        \n",
    "    return 4 * in_circle/iterations\n",
    "        \n",
    "\n",
    "estimate(1_000_000)"
   ]
  }
 ],
 "metadata": {
  "kernelspec": {
   "display_name": "Python 3",
   "language": "python",
   "name": "python3"
  },
  "language_info": {
   "codemirror_mode": {
    "name": "ipython",
    "version": 3
   },
   "file_extension": ".py",
   "mimetype": "text/x-python",
   "name": "python",
   "nbconvert_exporter": "python",
   "pygments_lexer": "ipython3",
   "version": "3.9.1"
  }
 },
 "nbformat": 4,
 "nbformat_minor": 1
}
